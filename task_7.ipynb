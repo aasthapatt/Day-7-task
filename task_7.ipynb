{
 "cells": [
  {
   "cell_type": "code",
   "execution_count": 1,
   "id": "f0cc245d-227c-478d-a6b6-cddc08888544",
   "metadata": {},
   "outputs": [
    {
     "name": "stdout",
     "output_type": "stream",
     "text": [
      "Created sales_data.db with sample data.\n"
     ]
    }
   ],
   "source": [
    "# create_db.py\n",
    "# Run this once to create a sample SQLite database (sales_data.db) with example data.\n",
    "import sqlite3\n",
    "\n",
    "conn = sqlite3.connect(\"sales_data.db\")\n",
    "cur = conn.cursor()\n",
    "\n",
    "# Create table\n",
    "cur.execute(\"\"\"\n",
    "CREATE TABLE IF NOT EXISTS sales (\n",
    "    id INTEGER PRIMARY KEY AUTOINCREMENT,\n",
    "    sale_date TEXT,\n",
    "    product TEXT,\n",
    "    quantity INTEGER,\n",
    "    price REAL\n",
    ")\n",
    "\"\"\")\n",
    "\n",
    "# Insert sample rows\n",
    "sample_data = [\n",
    "    (\"2025-09-01\", \"Pen\", 10, 2.5),\n",
    "    (\"2025-09-02\", \"Notebook\", 5, 15.0),\n",
    "    (\"2025-09-02\", \"Pen\", 7, 2.5),\n",
    "    (\"2025-09-03\", \"Pencil\", 20, 1.0),\n",
    "    (\"2025-09-04\", \"Notebook\", 3, 15.0),\n",
    "    (\"2025-09-05\", \"Pencil\", 10, 1.0),\n",
    "    (\"2025-09-06\", \"Eraser\", 8, 0.5),\n",
    "]\n",
    "cur.executemany(\"INSERT INTO sales (sale_date, product, quantity, price) VALUES (?, ?, ?, ?)\", sample_data)\n",
    "\n",
    "conn.commit()\n",
    "conn.close()\n",
    "print(\"Created sales_data.db with sample data.\")\n"
   ]
  },
  {
   "cell_type": "code",
   "execution_count": null,
   "id": "a43e10cd-812a-4ffa-b945-f95656870071",
   "metadata": {},
   "outputs": [],
   "source": []
  },
  {
   "cell_type": "code",
   "execution_count": 2,
   "id": "84fa9351-b96d-483e-b09d-70d6f094eb02",
   "metadata": {},
   "outputs": [
    {
     "name": "stdout",
     "output_type": "stream",
     "text": [
      "Requirement already satisfied: matplotlib in c:\\users\\aasth\\anaconda3\\envs\\pandas-playground\\lib\\site-packages (3.10.6)\n",
      "Requirement already satisfied: contourpy>=1.0.1 in c:\\users\\aasth\\anaconda3\\envs\\pandas-playground\\lib\\site-packages (from matplotlib) (1.3.3)\n",
      "Requirement already satisfied: cycler>=0.10 in c:\\users\\aasth\\anaconda3\\envs\\pandas-playground\\lib\\site-packages (from matplotlib) (0.12.1)\n",
      "Requirement already satisfied: fonttools>=4.22.0 in c:\\users\\aasth\\anaconda3\\envs\\pandas-playground\\lib\\site-packages (from matplotlib) (4.60.1)\n",
      "Requirement already satisfied: kiwisolver>=1.3.1 in c:\\users\\aasth\\anaconda3\\envs\\pandas-playground\\lib\\site-packages (from matplotlib) (1.4.9)\n",
      "Requirement already satisfied: numpy>=1.23 in c:\\users\\aasth\\anaconda3\\envs\\pandas-playground\\lib\\site-packages (from matplotlib) (2.3.1)\n",
      "Requirement already satisfied: packaging>=20.0 in c:\\users\\aasth\\anaconda3\\envs\\pandas-playground\\lib\\site-packages (from matplotlib) (24.2)\n",
      "Requirement already satisfied: pillow>=8 in c:\\users\\aasth\\anaconda3\\envs\\pandas-playground\\lib\\site-packages (from matplotlib) (11.3.0)\n",
      "Requirement already satisfied: pyparsing>=2.3.1 in c:\\users\\aasth\\anaconda3\\envs\\pandas-playground\\lib\\site-packages (from matplotlib) (3.2.5)\n",
      "Requirement already satisfied: python-dateutil>=2.7 in c:\\users\\aasth\\anaconda3\\envs\\pandas-playground\\lib\\site-packages (from matplotlib) (2.9.0.post0)\n",
      "Requirement already satisfied: six>=1.5 in c:\\users\\aasth\\anaconda3\\envs\\pandas-playground\\lib\\site-packages (from python-dateutil>=2.7->matplotlib) (1.17.0)\n"
     ]
    }
   ],
   "source": [
    "!pip install matplotlib"
   ]
  },
  {
   "cell_type": "code",
   "execution_count": null,
   "id": "8f5e22a3-bc8e-424e-8f54-365f05770004",
   "metadata": {},
   "outputs": [],
   "source": []
  },
  {
   "cell_type": "code",
   "execution_count": 3,
   "id": "868dc201-514e-4a10-bba5-9eba7f1b39ce",
   "metadata": {},
   "outputs": [
    {
     "name": "stdout",
     "output_type": "stream",
     "text": [
      "Sales summary by product:\n",
      " product  total_qty  revenue\n",
      "Notebook         40    600.0\n",
      "     Pen         85    212.5\n",
      "  Pencil        150    150.0\n",
      "  Eraser         40     20.0\n",
      "Saved chart to sales_chart.png\n"
     ]
    },
    {
     "data": {
      "image/png": "[encoded data removed]",
      "text/plain": [
       "<Figure size 640x480 with 1 Axes>"
      ]
     },
     "metadata": {},
     "output_type": "display_data"
    }
   ],
   "source": [
    "# sales_summary.py\n",
    "# Run this to connect to sales_data.db, query sales summary, print results, and save a bar chart.\n",
    "import sqlite3\n",
    "import pandas as pd\n",
    "import matplotlib.pyplot as plt\n",
    "\n",
    "# 1) Connect to the database\n",
    "conn = sqlite3.connect(\"sales_data.db\")\n",
    "\n",
    "# 2) SQL query: total quantity and revenue by product\n",
    "query = \"\"\"\n",
    "SELECT product,\n",
    "       SUM(quantity) AS total_qty,\n",
    "       SUM(quantity * price) AS revenue\n",
    "FROM sales\n",
    "GROUP BY product\n",
    "ORDER BY revenue DESC\n",
    "\"\"\"\n",
    "\n",
    "# 3) Load into pandas DataFrame\n",
    "df = pd.read_sql_query(query, conn)\n",
    "\n",
    "# 4) Print the table to the screen\n",
    "print(\"Sales summary by product:\")\n",
    "print(df.to_string(index=False))\n",
    "\n",
    "# 5) Plot a simple bar chart of revenue by product\n",
    "ax = df.plot(kind='bar', x='product', y='revenue', legend=False)\n",
    "ax.set_ylabel(\"Revenue\")\n",
    "ax.set_xlabel(\"Product\")\n",
    "ax.set_title(\"Revenue by Product\")\n",
    "plt.tight_layout()\n",
    "plt.savefig(\"sales_chart.png\")\n",
    "print(\"Saved chart to sales_chart.png\")\n",
    "\n",
    "# 6) Close connection\n",
    "conn.close()\n"
   ]
  }
 ],
 "metadata": {
  "kernelspec": {
   "display_name": "Python 3 (ipykernel)",
   "language": "python",
   "name": "python3"
  },
  "language_info": {
   "codemirror_mode": {
    "name": "ipython",
    "version": 3
   },
   "file_extension": ".py",
   "mimetype": "text/x-python",
   "name": "python",
   "nbconvert_exporter": "python",
   "pygments_lexer": "ipython3",
   "version": "3.13.5"
  }
 },
 "nbformat": 4,
 "nbformat_minor": 5
}
